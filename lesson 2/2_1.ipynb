{
 "cells": [
  {
   "cell_type": "code",
   "execution_count": null,
   "metadata": {},
   "outputs": [
    {
     "name": "stdout",
     "output_type": "stream",
     "text": [
      "my_number\n"
     ]
    }
   ],
   "source": [
    "my_number=21\n",
    "print(\"my_number\")\n"
   ]
  },
  {
   "cell_type": "code",
   "execution_count": null,
   "metadata": {},
   "outputs": [
    {
     "ename": "NameError",
     "evalue": "name 'my_numbe' is not defined",
     "output_type": "error",
     "traceback": [
      "\u001b[1;31m---------------------------------------------------------------------------\u001b[0m",
      "\u001b[1;31mNameError\u001b[0m                                 Traceback (most recent call last)",
      "Cell \u001b[1;32mIn[7], line 1\u001b[0m\n\u001b[1;32m----> 1\u001b[0m my_number \u001b[38;5;241m=\u001b[39m \u001b[43mmy_numbe\u001b[49m \u001b[38;5;241m+\u001b[39m \u001b[38;5;241m5\u001b[39m\n\u001b[0;32m      2\u001b[0m \u001b[38;5;28mprint\u001b[39m(my_number)\n",
      "\u001b[1;31mNameError\u001b[0m: name 'my_numbe' is not defined"
     ]
    }
   ],
   "source": [
    "my_number = my_numbe + 5\n",
    "print(my_number)"
   ]
  },
  {
   "cell_type": "code",
   "execution_count": null,
   "metadata": {},
   "outputs": [],
   "source": [
    "\n",
    "my_number += 5\n",
    "\n",
    "print(my_number)"
   ]
  },
  {
   "cell_type": "code",
   "execution_count": null,
   "metadata": {},
   "outputs": [],
   "source": [
    "### Compound assisgnment operators"
   ]
  },
  {
   "cell_type": "code",
   "execution_count": null,
   "metadata": {},
   "outputs": [
    {
     "ename": "NameError",
     "evalue": "name 'my_name' is not defined",
     "output_type": "error",
     "traceback": [
      "\u001b[1;31m---------------------------------------------------------------------------\u001b[0m",
      "\u001b[1;31mNameError\u001b[0m                                 Traceback (most recent call last)",
      "Cell \u001b[1;32mIn[11], line 11\u001b[0m\n\u001b[0;32m      8\u001b[0m my_age \u001b[38;5;241m=\u001b[39m \u001b[38;5;241m20\u001b[39m\n\u001b[0;32m     10\u001b[0m \u001b[38;5;66;03m#try to do str concatenation\u001b[39;00m\n\u001b[1;32m---> 11\u001b[0m output \u001b[38;5;241m=\u001b[39m \u001b[43mmy_name\u001b[49m \u001b[38;5;241m+\u001b[39m \u001b[38;5;124m\"\u001b[39m\u001b[38;5;124m is \u001b[39m\u001b[38;5;124m\"\u001b[39m \u001b[38;5;241m+\u001b[39m \u001b[38;5;28mstr\u001b[39m(my_age) \u001b[38;5;241m+\u001b[39m \u001b[38;5;124m\"\u001b[39m\u001b[38;5;124myears old.\u001b[39m\u001b[38;5;124m\"\u001b[39m\n\u001b[0;32m     13\u001b[0m \u001b[38;5;28mprint\u001b[39m(\u001b[38;5;28mtype\u001b[39m(outout))\n\u001b[0;32m     14\u001b[0m \u001b[38;5;28mprint\u001b[39m(output)\n",
      "\u001b[1;31mNameError\u001b[0m: name 'my_name' is not defined"
     ]
    }
   ],
   "source": [
    "### Conveting Data Types\\\n",
    "#int() converts to an interger\n",
    "#float() con to a float\n",
    "#str() con to a string\n",
    "#bool() converts to a boolean\n",
    "\n",
    "name = \"David\"\n",
    "my_age = 20\n",
    "\n",
    "#try to do str concatenation\n",
    "output = my_name + \" is \" + str(my_age) + \"years old.\"\n",
    "\n",
    "print(type(outout))\n",
    "print(output)\n",
    "\n",
    "\n"
   ]
  },
  {
   "cell_type": "code",
   "execution_count": null,
   "metadata": {},
   "outputs": [
    {
     "name": "stdout",
     "output_type": "stream",
     "text": [
      "<class 'str'>\n",
      "204\n"
     ]
    }
   ],
   "source": [
    "my_string_number = \"199\"\n",
    "\n",
    "print(type(my_string_number))\n",
    "\n",
    "my_string_number = int(my_string_number) + 5\n",
    "print(my_string_number)"
   ]
  },
  {
   "cell_type": "code",
   "execution_count": null,
   "metadata": {},
   "outputs": [],
   "source": [
    "### Special String Operators\n",
    "- print function end argument \n",
    "- new line \\n \n",
    "- tab \\t"
   ]
  },
  {
   "cell_type": "code",
   "execution_count": null,
   "metadata": {},
   "outputs": [
    {
     "name": "stdout",
     "output_type": "stream",
     "text": [
      "Dacid\n",
      "Dacid Snow \n",
      "jack Dacid\n",
      "Dacid Snow \n",
      "jack Dacid\n",
      "Dacid@jack$\n",
      "Dacid@jack$\n",
      "Dacid@jack@mike$\n",
      "Dacid@jack$mike@\n",
      "Name\tAge\tPhone\n"
     ]
    }
   ],
   "source": [
    "name = \"Dacid\"\n",
    "name2 =\"jack\"\n",
    "name3 = \"mike\"\n",
    "\n",
    "print(name)\n",
    "\n",
    "print(name, end=\" Snow \\n\")\n",
    "\n",
    "print(name2,name)\n",
    "\n",
    "print(name, end=\" Snow \\n\")\n",
    "print(name2,name)\n",
    "\n",
    "print(name, name2, sep=\"@\",end=\"$\\n\")\n",
    "print(name + \"@\" + name2 + \"$\")\n",
    "print(name, name2, name3, sep=\"@\",end=\"$\\n\")\n",
    "print(name + \"@\" + name2 + \"$\" + name3 + \"@\")\n",
    "\n",
    "print(\"Name\\tAge\\tPhone\")"
   ]
  },
  {
   "cell_type": "markdown",
   "metadata": {},
   "source": [
    "### Python Functions\n",
    "- print()\n",
    "-function definiton: A function is a block of code that perfoms a specific task.\n",
    "####\n"
   ]
  },
  {
   "cell_type": "code",
   "execution_count": null,
   "metadata": {},
   "outputs": [
    {
     "name": "stdout",
     "output_type": "stream",
     "text": [
      "Hello World\n",
      "What is your name\n"
     ]
    }
   ],
   "source": [
    "print(\"Hello World\")\n",
    "\n",
    "print(\"What is your name\")\n",
    "User_name = input( )\n"
   ]
  },
  {
   "cell_type": "code",
   "execution_count": null,
   "metadata": {},
   "outputs": [
    {
     "ename": "NameError",
     "evalue": "name 'user_name' is not defined",
     "output_type": "error",
     "traceback": [
      "\u001b[1;31m---------------------------------------------------------------------------\u001b[0m",
      "\u001b[1;31mNameError\u001b[0m                                 Traceback (most recent call last)",
      "Cell \u001b[1;32mIn[1], line 1\u001b[0m\n\u001b[1;32m----> 1\u001b[0m \u001b[38;5;28mprint\u001b[39m(\u001b[38;5;28mtype\u001b[39m(\u001b[43muser_name\u001b[49m))\n\u001b[0;32m      2\u001b[0m \u001b[38;5;28mprint\u001b[39m(user_name)\n",
      "\u001b[1;31mNameError\u001b[0m: name 'user_name' is not defined"
     ]
    }
   ],
   "source": [
    "print(type(user_name))\n",
    "print(user_name)"
   ]
  },
  {
   "cell_type": "code",
   "execution_count": null,
   "metadata": {},
   "outputs": [],
   "source": [
    "print(\"Please enter a number\")\n",
    "input_number = input()\n",
    "print(typw(input_number))\n",
    "print(int(tnput))"
   ]
  },
  {
   "cell_type": "code",
   "execution_count": 1,
   "metadata": {},
   "outputs": [],
   "source": [
    "input_number = float(input(\"Please enter a number: \"))"
   ]
  },
  {
   "cell_type": "code",
   "execution_count": null,
   "metadata": {},
   "outputs": [],
   "source": [
    "print(type(input_number))\n"
   ]
  },
  {
   "cell_type": "code",
   "execution_count": 1,
   "metadata": {},
   "outputs": [
    {
     "ename": "SyntaxError",
     "evalue": "invalid syntax (3990340993.py, line 1)",
     "output_type": "error",
     "traceback": [
      "\u001b[1;36m  Cell \u001b[1;32mIn[1], line 1\u001b[1;36m\u001b[0m\n\u001b[1;33m    print(in(input_number))\u001b[0m\n\u001b[1;37m          ^\u001b[0m\n\u001b[1;31mSyntaxError\u001b[0m\u001b[1;31m:\u001b[0m invalid syntax\n"
     ]
    }
   ],
   "source": [
    "print(in(input_number))"
   ]
  },
  {
   "cell_type": "code",
   "execution_count": 3,
   "metadata": {},
   "outputs": [
    {
     "name": "stdout",
     "output_type": "stream",
     "text": [
      "5.645434\n",
      "5.65\n"
     ]
    }
   ],
   "source": [
    "my_float_number = 5.645434\n",
    "print(my_float_number)\n",
    "\n",
    "my_float_number = round(my_float_number, 2)\n",
    "print(my_float_number)\n",
    "\n"
   ]
  },
  {
   "cell_type": "code",
   "execution_count": 2,
   "metadata": {},
   "outputs": [
    {
     "name": "stdout",
     "output_type": "stream",
     "text": [
      "Hello, I will roound the number you enter to 2 decimal places.\n",
      "The number you gave me is:  1.123213\n",
      "The number yiu entered rouned to 2 decimal places is: 1.12\n"
     ]
    }
   ],
   "source": [
    "print(\"Hello, I will roound the number you enter to 2 decimal places.\")\n",
    "\n",
    "my_number = float(input(\"Pleaase enter a number: \"))\n",
    "\n",
    "print(\"The number you gave me is: \", my_number)\n",
    "\n",
    "print(\"The number yiu entered rouned to 2 decimal places is:\", round(my_number, 2))\n"
   ]
  }
 ],
 "metadata": {
  "kernelspec": {
   "display_name": "Python 3",
   "language": "python",
   "name": "python3"
  },
  "language_info": {
   "codemirror_mode": {
    "name": "ipython",
    "version": 3
   },
   "file_extension": ".py",
   "mimetype": "text/x-python",
   "name": "python",
   "nbconvert_exporter": "python",
   "pygments_lexer": "ipython3",
   "version": "3.12.1"
  }
 },
 "nbformat": 4,
 "nbformat_minor": 2
}
