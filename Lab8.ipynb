{
 "cells": [
  {
   "cell_type": "markdown",
   "metadata": {},
   "source": [
    "# Python Lists, and API's\n",
    "## Lab: 8\n",
    "\n",
    "Todays Lab will be going over python lists, tuples, and using some api's\n",
    "to get data from the internet. We will be using the requests library to\n",
    "get data from the internet. We will also be using the json library to\n",
    "parse the data we get from the internet."
   ]
  },
  {
   "cell_type": "code",
   "execution_count": 28,
   "metadata": {},
   "outputs": [],
   "source": [
    "# Name:David Morales Gomez\n",
    "# Creating Lists and Tuples\n",
    "#active the .\\venv\\Scripts\\activate\n",
    "fruits = [\"apple\", \"banana\", \"cherry\"]\n",
    "coordinates = (10, 25, 3)\n",
    "\n",
    "\n",
    "\n",
    "# Create a list named fruits with the following elements: \"apple\", \"banana\", \"cherry\".\n",
    "\n",
    "# Create a tuple named coordinates with three numbers representing a point in 3D space."
   ]
  },
  {
   "cell_type": "code",
   "execution_count": 13,
   "metadata": {},
   "outputs": [
    {
     "name": "stdout",
     "output_type": "stream",
     "text": [
      "banana\n",
      "3\n"
     ]
    }
   ],
   "source": [
    "# Accessing Elements\n",
    "\n",
    "# Print the second element of the fruits list.\n",
    "print(fruits[1])\n",
    "# Print the last element of the coordinates tuple.\n",
    "print(coordinates[-1])"
   ]
  },
  {
   "cell_type": "code",
   "execution_count": 29,
   "metadata": {},
   "outputs": [],
   "source": [
    "# Modifying lists\n",
    "\n",
    "# Add \"orange\" to the end of the fruits list.\n",
    "# Remmeber append is a method of the list class that adds an element to the end of the list\n",
    "fruits.append(\"orange\")\n",
    "# Insert \"blueberry\" at the beginning of the fruits list.\n",
    "fruits.insert(0, \"blueberry\")\n",
    "#  Remove \"banana\" from the fruits list.\n",
    "fruits.remove(\"banana\")\n",
    "# Change the first element of the fruits list to \"strawberry\".\n",
    "fruits[0] = \"strawberry\"\n",
    "# insert \"blueberry\" at the beginning of the fruits list again.\n",
    "fruits.insert(0, \"blueberry\")"
   ]
  },
  {
   "cell_type": "code",
   "execution_count": 23,
   "metadata": {},
   "outputs": [
    {
     "name": "stdout",
     "output_type": "stream",
     "text": [
      "['cherry', 'orange']\n"
     ]
    }
   ],
   "source": [
    "# List Slicing\n",
    "\n",
    "# Create a new list berries that contains only the \"blueberry\" and \"strawberry\" from the fruits list.\n",
    "berries = fruits[0:2]\n",
    "# Print the last two elements of the fruits list using negative indexing.\n",
    "print(fruits[-2:])"
   ]
  },
  {
   "cell_type": "code",
   "execution_count": 30,
   "metadata": {},
   "outputs": [],
   "source": [
    "# List Comprehensions\n",
    "\n",
    "# Create a new list even_fruits that contains only the fruits with an even number of characters from the fruits list.\n",
    "even_fruits = [fruit for fruit in fruits if len(fruit) % 2 == 0]\n",
    "# Create a new list upper_fruits that contains all the fruits from the fruits list in uppercase letters.\n",
    "upper_fruits = [fruit.upper() for fruit in fruits]"
   ]
  },
  {
   "cell_type": "code",
   "execution_count": 31,
   "metadata": {},
   "outputs": [],
   "source": [
    "# Tuples and immutability\n",
    "\n",
    "# Try to change the first element of the coordinates tuple to a different number and observe what happens.\n",
    "#new_coordinates = (5, 25, 3)\n",
    "new_coordinates = (5, coordinates[1], coordinates[2])\n",
    "# Try to add a new element to the coordinates tuple and observe what happens.\n",
    "\n",
    "# Create a new tuple new_coordinates that is a modified version of coordinates with the first element changed.\n",
    "\n",
    "\n"
   ]
  },
  {
   "cell_type": "code",
   "execution_count": 32,
   "metadata": {},
   "outputs": [
    {
     "name": "stdout",
     "output_type": "stream",
     "text": [
      "5\n",
      "['apple', 'blueberry', 'cherry', 'orange', 'strawberry']\n"
     ]
    },
    {
     "data": {
      "text/plain": [
       "2"
      ]
     },
     "execution_count": 32,
     "metadata": {},
     "output_type": "execute_result"
    }
   ],
   "source": [
    "# Built-in Functions and Methods\n",
    "\n",
    "# Use the len() function to print the length of the fruits list.\n",
    "print(len(fruits))\n",
    "# Use the sorted() function to print a sorted version of the fruits list without changing the original list.\n",
    "print(sorted(fruits))\n",
    "# Use the list.sort() method to sort the fruits list in place.\n",
    "fruits.sort()\n",
    "# Find the index of \"cherry\" in the fruits list using the list.index() method.\n",
    "fruits.index(\"cherry\")"
   ]
  },
  {
   "cell_type": "markdown",
   "metadata": {},
   "source": [
    "# Working with API's \n",
    "\n"
   ]
  },
  {
   "cell_type": "code",
   "execution_count": 37,
   "metadata": {},
   "outputs": [
    {
     "ename": "ModuleNotFoundError",
     "evalue": "No module named 'requests'",
     "output_type": "error",
     "traceback": [
      "\u001b[1;31m---------------------------------------------------------------------------\u001b[0m",
      "\u001b[1;31mModuleNotFoundError\u001b[0m                       Traceback (most recent call last)",
      "Cell \u001b[1;32mIn[37], line 4\u001b[0m\n\u001b[0;32m      1\u001b[0m \u001b[38;5;66;03m# import the requests library to get data from the internet\u001b[39;00m\n\u001b[0;32m      2\u001b[0m \u001b[38;5;66;03m# Note: you may need to install the requests library using pip\u001b[39;00m\n\u001b[0;32m      3\u001b[0m \u001b[38;5;66;03m# pip3 install requests\u001b[39;00m\n\u001b[1;32m----> 4\u001b[0m \u001b[38;5;28;01mimport\u001b[39;00m \u001b[38;5;21;01mrequests\u001b[39;00m\n\u001b[0;32m      6\u001b[0m \u001b[38;5;66;03m# import the json library to parse the data we get from the internet\u001b[39;00m\n\u001b[0;32m      7\u001b[0m \u001b[38;5;28;01mimport\u001b[39;00m \u001b[38;5;21;01mjson\u001b[39;00m\n",
      "\u001b[1;31mModuleNotFoundError\u001b[0m: No module named 'requests'"
     ]
    }
   ],
   "source": [
    "# import the requests library to get data from the internet\n",
    "# Note: you may need to install the requests library using pip\n",
    "# pip3 install requests\n",
    "import requests\n",
    "\n",
    "# import the json library to parse the data we get from the internet\n",
    "import json\n",
    "\n"
   ]
  },
  {
   "cell_type": "code",
   "execution_count": null,
   "metadata": {},
   "outputs": [],
   "source": [
    " #use the requests library to send a GET request to the JSONPlaceholder API to retrieve a list of posts. The API endpoint is https://jsonplaceholder.typicode.com/posts."
   ]
  },
  {
   "cell_type": "code",
   "execution_count": null,
   "metadata": {},
   "outputs": [],
   "source": [
    "# Parse the JSON response and store it in a variable posts.\n",
    "# Note: We did not learn about JSON yet (This will be taught in more depth in our lesson on Dictionaries for now just think of it as a way to represent data.)\n",
    "\n",
    "\n",
    "#  Print the title of the first post in the posts list.\n",
    "\n",
    "# Create a list post_titles that contains the titles of all the posts.\n",
    "\n",
    " \n",
    "\n"
   ]
  },
  {
   "cell_type": "code",
   "execution_count": null,
   "metadata": {},
   "outputs": [],
   "source": [
    "# Find the post with the longest title and print its title and body. Call the variable longest_post. No LAMBDA functions allowed.\n",
    "\n",
    "# Note: Copilot might try to fill in a lambda function for this task. Try to solve it without using a lambda function.\n",
    "\n",
    "\n",
    "\n",
    "# Print the titles of the first 5 posts using slicing. \n"
   ]
  },
  {
   "cell_type": "code",
   "execution_count": null,
   "metadata": {},
   "outputs": [],
   "source": [
    "# Create a tuple post_info that contains the userId, title, and body of the fifth post in the list.\n",
    "\n"
   ]
  }
 ],
 "metadata": {
  "kernelspec": {
   "display_name": "venv",
   "language": "python",
   "name": "python3"
  },
  "language_info": {
   "codemirror_mode": {
    "name": "ipython",
    "version": 3
   },
   "file_extension": ".py",
   "mimetype": "text/x-python",
   "name": "python",
   "nbconvert_exporter": "python",
   "pygments_lexer": "ipython3",
   "version": "3.12.2"
  }
 },
 "nbformat": 4,
 "nbformat_minor": 2
}
